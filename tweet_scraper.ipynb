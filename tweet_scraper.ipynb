{
 "cells": [
  {
   "cell_type": "markdown",
   "metadata": {},
   "source": [
    "### I hope this algorithm can help you! If you need to contact me for any reason, do not hesitate to follow and write me about it through my social media or e-mail =) \n",
    "\n",
    "## LET'S SHARE AND OPEN-SOURCE IT!"
   ]
  },
  {
   "cell_type": "markdown",
   "metadata": {},
   "source": [
    "#### GitHub: https://github.com/neural-insights\n",
    "\n",
    "#### LinkedIn: https://www.linkedin.com/in/lucas-barone-peres/\n",
    "\n",
    "#### Medium: https://medium.com/@lucas.barone.peres\n",
    "\n",
    "#### e-mail: lucas.barone.peres@gmail.com"
   ]
  },
  {
   "cell_type": "markdown",
   "metadata": {
    "id": "QTGbyE4tPAAQ"
   },
   "source": [
    "# **Collecting tweets**"
   ]
  },
  {
   "cell_type": "markdown",
   "metadata": {},
   "source": [
    "### Installing SNScrape library"
   ]
  },
  {
   "cell_type": "code",
   "execution_count": null,
   "metadata": {
    "colab": {
     "base_uri": "https://localhost:8080/"
    },
    "executionInfo": {
     "elapsed": 17820,
     "status": "ok",
     "timestamp": 1674915717617,
     "user": {
      "displayName": "Aline Salviano",
      "userId": "17132370323163133714"
     },
     "user_tz": 180
    },
    "id": "HK8Qpb9JPAAY",
    "outputId": "517ef56d-db50-4955-a2a6-908ca2fe4083"
   },
   "outputs": [],
   "source": [
    "#Developer version of SNScrape (it runs only on Jupyter Notebook)\n",
    "\n",
    "!pip install git+https://github.com/JustAnotherArchivist/snscrape.git"
   ]
  },
  {
   "cell_type": "markdown",
   "metadata": {
    "id": "ZI5LYi-5QsO6"
   },
   "source": [
    "### SNScrape guides:\n",
    "\n",
    "- SNScrape's GitHub: https://github.com/JustAnotherArchivist/snscrape\n",
    "\n",
    "- Medium's article and tutorial: https://medium.com/dataseries/how-to-scrape-millions-of-tweets-using-snscrape-195ee3594721"
   ]
  },
  {
   "cell_type": "markdown",
   "metadata": {
    "id": "-h08JzlXPAAh"
   },
   "source": [
    "### Importing fundamental libraries\n",
    "\n",
    "If you don't have some of these libraries installed, just uncomment the commands below to install or update them."
   ]
  },
  {
   "cell_type": "code",
   "execution_count": null,
   "metadata": {},
   "outputs": [],
   "source": [
    "#!pip install pandas\n",
    "#!pip install tqdm"
   ]
  },
  {
   "cell_type": "code",
   "execution_count": null,
   "metadata": {
    "id": "oUkl-hqlPAAj"
   },
   "outputs": [],
   "source": [
    "import snscrape.modules.twitter as sntwitter\n",
    "import pandas as pd\n",
    "from time import sleep\n",
    "from tqdm.auto import tqdm\n",
    "\n",
    "#Ignore warnings\n",
    "import warnings\n",
    "warnings.filterwarnings(\"ignore\")"
   ]
  },
  {
   "cell_type": "markdown",
   "metadata": {},
   "source": [
    "### Declaring some accessory functions to check if input conditions are plausible"
   ]
  },
  {
   "cell_type": "code",
   "execution_count": null,
   "metadata": {},
   "outputs": [],
   "source": [
    "def check_input(input_type:str, date_type:str):\n",
    "    while True:\n",
    "        try:\n",
    "            user_input = int(input(f\"Enter the {date_type} {input_type}:\"))\n",
    "            if input_type == 'month':\n",
    "                if not 1 <= user_input <= 12:\n",
    "                    print(\"Invalid month: enter a number between 1 and 12\")\n",
    "                    continue\n",
    "            elif input_type == 'day':\n",
    "                if not 1 <= user_input <= 31:\n",
    "                    print(\"Invalid day: enter a number between 1 and 31\")\n",
    "                    continue\n",
    "            return user_input\n",
    "        except:\n",
    "            print(\"Invalid input: enter only positive numbers\")\n",
    "            continue\n",
    "\n",
    "def get_date(date_type:str):\n",
    "    while True:\n",
    "        year = check_input(input_type='year', date_type=date_type)\n",
    "        month = check_input(input_type='month', date_type=date_type)\n",
    "        day = check_input(input_type='day', date_type=date_type)\n",
    "        try:\n",
    "            date = pd.to_datetime(f\"{year}-{month}-{day}\").date()\n",
    "            return date\n",
    "        except Exception as e:\n",
    "            print(e)\n",
    "            print(\"Please re-enter the desired date...\")\n",
    "            continue"
   ]
  },
  {
   "cell_type": "markdown",
   "metadata": {},
   "source": [
    "### Declaring the main function which will collect all inputs from user and analyze their viability"
   ]
  },
  {
   "cell_type": "code",
   "execution_count": null,
   "metadata": {},
   "outputs": [],
   "source": [
    "def search_your_tweets():\n",
    "    name = input(\"Enter the name of any keyword you want to search on tweets:\")\n",
    "\n",
    "    while True:\n",
    "        initial_date = get_date(date_type='initial')\n",
    "        final_date = get_date(date_type='final') + pd.Timedelta(days=1)\n",
    "        if final_date >= initial_date: break\n",
    "        else: print(\"Final date is earlier than initial date, please fix this...\")\n",
    "\n",
    "    #Note you can't choose the same day for both initial and final days        \n",
    "    number_daily_tweets = int(input(\"Enter the number of tweets you want to catch per day:\"))\n",
    "\n",
    "    info_tuple = (name, initial_date, final_date, number_daily_tweets)\n",
    "    return info_tuple"
   ]
  },
  {
   "cell_type": "markdown",
   "metadata": {
    "id": "vrEpBKqOPAAk"
   },
   "source": [
    "### Declaring lists of tweets items you need to scrape\n",
    "\n",
    "At this point, you must decide exactly which information you need from tweets for your future analysis"
   ]
  },
  {
   "cell_type": "code",
   "execution_count": null,
   "metadata": {},
   "outputs": [],
   "source": [
    "#The first list gathers the tweet fields that will be considered in coding demonstration foward. \n",
    "#The second list includes all tweet items which snscrappe can scrape and return. So, you can create your own list \n",
    "#with the fields you need to scrape based on these information, or just deleting unnecessary fields below. \n",
    "\n",
    "\n",
    "default_str_list =  [\"date\", \"tweet_id\", \"tweet\", \"username\", \"replies_score\",\n",
    "                                             \"retweet_score\", \"likes_score\", \"quotes_score\"]\n",
    "\n",
    "\n",
    "all_fields_str_list = ['url', 'date', 'rawContent', 'renderedContent', 'id', 'content', 'user', 'replyCount', 'likeCount',\n",
    "                           'quoteCount', 'conversationId', 'lang', 'source', 'sourceUrl', 'sourceLabel', 'links', 'media', 'retweetedTweet',\n",
    "                               'quotedTweet', 'inReplyToTweetId', 'inReplyToUser', 'mentionedUsers', 'coordinates', 'place', 'hashtags',\n",
    "                                   'cashtags', 'card']\n"
   ]
  },
  {
   "cell_type": "markdown",
   "metadata": {},
   "source": [
    "After deciding the tweet items you want to scrape, you must create a commented list with the same item's name in the same sequence, but with the prefix \"tweet.\" added to all fields you wrote, as exemplified below. You will use this list within the TwitterSearchScrapper afterward, but keep them commented to avoid error on the next cell.\n",
    "\n",
    "**If you've chosen to proceed with the default list, you don't need to do anything.**"
   ]
  },
  {
   "cell_type": "code",
   "execution_count": null,
   "metadata": {},
   "outputs": [],
   "source": [
    "#[tweet.date, tweet.id, tweet.content, tweet.user.username,\n",
    "#                                     tweet.replyCount, tweet.retweetCount, tweet.likeCount, tweet.quoteCount]\n",
    "\n",
    "#['tweet.url', 'tweet.date', 'tweet.rawContent', 'tweet.renderedContent', 'tweet.id', 'tweet.content', 'tweet.user', 'tweet.replyCount', 'tweet.likeCount',\n",
    "#                           'tweet.quoteCount', 'tweet.conversationId', 'tweet.lang', 'tweet.source', 'tweet.sourceUrl', 'tweet.sourceLabel', 'tweet.links', 'tweet.media',\n",
    "#                               'tweet.retweetedTweet', 'tweet.quotedTweet', 'tweet.inReplyToTweetId', 'tweet.inReplyToUser', 'tweet.mentionedUsers', 'tweet.coordinates', 'tweet.place', \n",
    "#                                   'tweet.hashtags','tweet.cashtags', 'tweet.card']"
   ]
  },
  {
   "cell_type": "markdown",
   "metadata": {},
   "source": [
    "### Building a function to catch tweets and store into a DataFrame\n",
    "\n",
    "PAY ATTENTION TO THE UPPER-CASE COMMENTS! 4 INSTRUCTIONS WILL GUIDE YOU TO COMPLETE YOUR PREFERENCES FOR THE TWITTER SEARCH SCRAPPER."
   ]
  },
  {
   "cell_type": "code",
   "execution_count": null,
   "metadata": {
    "id": "6woR0wptPAAl"
   },
   "outputs": [],
   "source": [
    "def tweet_collector(name, initial_date, final_date, number_daily_tweets):\n",
    "\n",
    "    total_tweets = (final_date - initial_date).days * number_daily_tweets  \n",
    "                \n",
    "    # List to store tweets\n",
    "    tweets_list = []\n",
    "    \n",
    "    # Progress bar\n",
    "    progress_bar = tqdm(total = total_tweets)\n",
    "    \n",
    "    # Counting\n",
    "    count = 0\n",
    "\n",
    "   # Loop\n",
    "\n",
    "#NOW IT'S TIME TO MAKE SOME CHOISES! \n",
    "    \n",
    "    while count != total_tweets:\n",
    "        for j in range(1):\n",
    "            \n",
    "#(1) ENGLISH WAS SET AS THE DEFAULT LANGUAGE. IF YOU NEED TO SEARCH IN ANOTHER LANGUAGE, CHANGE TwitterSearchScrapper PARAMETERS (lang: )\n",
    "#(2) RETWEETS ARE BEING FILTERED. IF YOU WANT TO COLLECT RETWEETS FOR YOUR DATA, JUST DELETE \"-filter:replies'\"\n",
    "\n",
    "            for i, tweet in enumerate(sntwitter.TwitterSearchScraper(f'{name} since:{initial_date} until:{final_date} lang:en -filter:replies').get_items()):\n",
    "                if i >= number_daily_tweets:\n",
    "                    final_date = (final_date - pd.Timedelta(days=1))\n",
    "                    break\n",
    "                    \n",
    "#(3) YOU MUST OVERWRITE TWEETS_LIST PARAMETERS WITH YOUR OWN LIST OF TWEET FIELDS DECLARED BEFORE, IF YOU DECIDED DON'T USE DEFAULT_LIST. IN THIS CASE,\n",
    "#    COPY AND PASTE THE LIST YOU WROTE BEFORE WITH THE PREFIX \"tweet.\" ADDED, FOLLOWING PREVIOUS INSTRUCTIONS.\n",
    "\n",
    "                tweets_list.append([tweet.date, tweet.id, tweet.content, tweet.user.username,\n",
    "                                     tweet.replyCount, tweet.retweetCount, tweet.likeCount, tweet.quoteCount])\n",
    "                sleep(0.01)\n",
    "                count += 1\n",
    "                progress_bar.update(1)\n",
    "\n",
    "    progress_bar.close()\n",
    "\n",
    "    # Creating a DataFrame\n",
    "    \n",
    "#(4) YOU MUST OVERWRITE THE FIELDS COLUMNS WITH YOUR OWN LIST OF TWEET FIELDS YOU DECLARED BEFORE\n",
    "    df = pd.DataFrame(tweets_list, columns=default_str_list)\n",
    "    \n",
    "    # Storing as csv\n",
    "    df.to_csv(f\"{name}_tweets_{initial_date.strftime('%Y%m%d')}_{final_date.strftime('%Y%m%d')}.csv\", encoding = 'utf-8', index = False)\n",
    "    \n",
    "    print(\"\\n Congratulations! All tweets were collected! \\n\\n\")"
   ]
  },
  {
   "cell_type": "markdown",
   "metadata": {},
   "source": [
    "# Now, it's up to you! You only need to run the cell below in order to collect your desired tweets! \n",
    "\n",
    "### Collecting your own tweets and saving as .csv"
   ]
  },
  {
   "cell_type": "code",
   "execution_count": null,
   "metadata": {},
   "outputs": [],
   "source": [
    "#ALL NUMBERS MUST BE INTEGERS!\n",
    "\n",
    "info_tuple = search_your_tweets()\n",
    "\n",
    "tweet_collector(*info_tuple)\n",
    "\n",
    "#The document will be saved in your current folder, with the name of the keyword(s) you is(are) looking for + the month's number"
   ]
  },
  {
   "cell_type": "markdown",
   "metadata": {},
   "source": [
    "### Check your Data in a Pandas Dataframe"
   ]
  },
  {
   "cell_type": "code",
   "execution_count": null,
   "metadata": {},
   "outputs": [],
   "source": [
    "#Insert the document's name between the brackets\n",
    "\n",
    "my_tweets_df = pd.read_csv('trump_tweets_1.csv')\n",
    "my_tweets_df.head(10)"
   ]
  },
  {
   "cell_type": "markdown",
   "metadata": {},
   "source": [
    "### Further informations about your Data"
   ]
  },
  {
   "cell_type": "code",
   "execution_count": null,
   "metadata": {},
   "outputs": [],
   "source": [
    "my_tweets_df.info()"
   ]
  },
  {
   "cell_type": "markdown",
   "metadata": {
    "id": "OpgwjzPk7X6N"
   },
   "source": [
    "### Examples of running tweet_collector function"
   ]
  },
  {
   "cell_type": "markdown",
   "metadata": {},
   "source": [
    "**Let's take a look at what people are tweeting about the new iPhone 14 release in September 2022**"
   ]
  },
  {
   "cell_type": "code",
   "execution_count": null,
   "metadata": {
    "colab": {
     "referenced_widgets": [
      "4a5a41382b124e77ab29db4200289c75",
      "d779be2ac2d44c0dbc2b7834b9a42a46"
     ]
    },
    "id": "PuDJEEM0PAAt",
    "outputId": "c86950f5-6f99-4d08-bb3b-2dfb0c3edd0a"
   },
   "outputs": [],
   "source": [
    "info_tuple = search_your_tweets()\n",
    "\n",
    "tweet_collector(info_tuple[0],info_tuple[1],info_tuple[2],info_tuple[3],info_tuple[4],info_tuple[5])\n",
    "\n",
    "#Note you can't choose the same day for both initial and final days\n",
    "\n",
    "#If the Progress Bar stops you probably are in a infinite loop. There is many reasons why you would create an infinite loop. For instance,\n",
    "#whether don't exist enough tweets about the topic you are searching for in the period selected. Try to perform some tests to figure out \n",
    "#probably reasons why you have created an inifite loop."
   ]
  },
  {
   "cell_type": "markdown",
   "metadata": {},
   "source": [
    "**Let's take a look what people are tweeting about the new iPhone 14 release at September 2022**"
   ]
  },
  {
   "cell_type": "code",
   "execution_count": null,
   "metadata": {},
   "outputs": [],
   "source": [
    "my_tweets_df1 = pd.read_csv('iPhone 14_tweets_9.csv')\n",
    "my_tweets_df1.head(15)"
   ]
  },
  {
   "cell_type": "code",
   "execution_count": null,
   "metadata": {},
   "outputs": [],
   "source": [
    "my_tweets_df1.info()"
   ]
  },
  {
   "cell_type": "markdown",
   "metadata": {},
   "source": [
    "### Collecting data in multiples months and concatenating"
   ]
  },
  {
   "cell_type": "markdown",
   "metadata": {},
   "source": [
    " "
   ]
  },
  {
   "cell_type": "markdown",
   "metadata": {
    "id": "9W-PCLK58gaE"
   },
   "source": [
    "**What are people tweeting about Ukraine war during the last 3 months? (Considering today as 01/04/2023)**\n",
    "\n",
    "In this case of multiple months needed, we need to run the function multiple times and concatenate the DataFrames"
   ]
  },
  {
   "cell_type": "code",
   "execution_count": null,
   "metadata": {
    "colab": {
     "base_uri": "https://localhost:8080/",
     "height": 103,
     "referenced_widgets": [
      "f3876b97e2eb440482f89aa6048fc1db",
      "5813d1520fe348d4988bf719c614583d",
      "27de3532b23a408985e87e86b67cd677",
      "8f2536c1c1754e08aae40733df109a32",
      "32e13252695240f1879f8218bfc75506",
      "8fe76c03c71f4955b78ba8fcc0af18ce",
      "5adc95d10d2c4801bcdc55fbb393bb67",
      "9270aef45cf141e7a3a49765b28539a4",
      "29e7d5da752841e2bae4b743413d0167",
      "7a7707d6babf4114aacf1c53c1808dda",
      "e3322688528746c08b5e63e4e6dfc1d2"
     ]
    },
    "executionInfo": {
     "elapsed": 1879231,
     "status": "ok",
     "timestamp": 1674919124762,
     "user": {
      "displayName": "Aline Salviano",
      "userId": "17132370323163133714"
     },
     "user_tz": 180
    },
    "id": "OyV-wFwzPAAw",
    "outputId": "04c01225-6962-4ea5-8dbf-ca642e6eb714"
   },
   "outputs": [],
   "source": [
    "#First month\n",
    "info_tuple = search_your_tweets()\n",
    "\n",
    "tweet_collector(info_tuple[0],info_tuple[1],info_tuple[2],info_tuple[3],info_tuple[4],info_tuple[5])"
   ]
  },
  {
   "cell_type": "code",
   "execution_count": null,
   "metadata": {},
   "outputs": [],
   "source": [
    "#Second month\n",
    "info_tuple = search_your_tweets()\n",
    "\n",
    "tweet_collector(info_tuple[0],info_tuple[1],info_tuple[2],info_tuple[3],info_tuple[4],info_tuple[5])"
   ]
  },
  {
   "cell_type": "code",
   "execution_count": null,
   "metadata": {},
   "outputs": [],
   "source": [
    "#Third month\n",
    "info_tuple = search_your_tweets()\n",
    "\n",
    "tweet_collector(info_tuple[0],info_tuple[1],info_tuple[2],info_tuple[3],info_tuple[4],info_tuple[5])"
   ]
  },
  {
   "cell_type": "code",
   "execution_count": null,
   "metadata": {},
   "outputs": [],
   "source": [
    "ukraine_df1 = pd.read_csv('Ukraine war_tweets_1.csv')\n",
    "ukraine_df2 = pd.read_csv('Ukraine war_tweets_2.csv')\n",
    "ukraine_df3 = pd.read_csv('Ukraine war_tweets_3.csv')\n",
    "\n",
    "df_merged = pd.concat([ukraine_df1, ukraine_df2, ukraine_df3])\n",
    "df_merged.info()"
   ]
  },
  {
   "cell_type": "code",
   "execution_count": null,
   "metadata": {},
   "outputs": [],
   "source": [
    "df_merged.head(5)"
   ]
  },
  {
   "cell_type": "code",
   "execution_count": null,
   "metadata": {},
   "outputs": [],
   "source": [
    "df_merged.tail(5)"
   ]
  },
  {
   "cell_type": "markdown",
   "metadata": {},
   "source": [
    "  "
   ]
  },
  {
   "cell_type": "markdown",
   "metadata": {},
   "source": [
    " "
   ]
  },
  {
   "cell_type": "markdown",
   "metadata": {},
   "source": [
    "## Thank you for reaching the end of my script! I hope I could helped you with your task! If my algorithm was useful for you, or if you want to make suggestions or reviews, please follow me and write me about it through my social media =) \n",
    "\n",
    "# LET'S SHARE AND OPEN-SOURCE IT!"
   ]
  },
  {
   "cell_type": "markdown",
   "metadata": {},
   "source": [
    "#### GitHub: https://github.com/neural-insights\n",
    "\n",
    "#### LinkedIn: https://www.linkedin.com/in/lucas-barone-peres/\n",
    "\n",
    "#### Medium: https://medium.com/@lucas.barone.peres\n",
    "\n",
    "#### e-mail: lucas.barone.peres@gmail.com"
   ]
  }
 ],
 "metadata": {
  "celltoolbar": "Raw Cell Format",
  "colab": {
   "provenance": []
  },
  "kernelspec": {
   "display_name": "Python 3.10.6 64-bit",
   "language": "python",
   "name": "python3"
  },
  "language_info": {
   "codemirror_mode": {
    "name": "ipython",
    "version": 3
   },
   "file_extension": ".py",
   "mimetype": "text/x-python",
   "name": "python",
   "nbconvert_exporter": "python",
   "pygments_lexer": "ipython3",
   "version": "3.10.6"
  },
  "vscode": {
   "interpreter": {
    "hash": "916dbcbb3f70747c44a77c7bcd40155683ae19c65e1c03b4aa3499c5328201f1"
   }
  },
  "widgets": {
   "application/vnd.jupyter.widget-state+json": {
    "030a079ef82c4ef3b3ce1f7634e5279e": {
     "model_module": "@jupyter-widgets/base",
     "model_module_version": "1.2.0",
     "model_name": "LayoutModel",
     "state": {
      "_model_module": "@jupyter-widgets/base",
      "_model_module_version": "1.2.0",
      "_model_name": "LayoutModel",
      "_view_count": null,
      "_view_module": "@jupyter-widgets/base",
      "_view_module_version": "1.2.0",
      "_view_name": "LayoutView",
      "align_content": null,
      "align_items": null,
      "align_self": null,
      "border": null,
      "bottom": null,
      "display": null,
      "flex": null,
      "flex_flow": null,
      "grid_area": null,
      "grid_auto_columns": null,
      "grid_auto_flow": null,
      "grid_auto_rows": null,
      "grid_column": null,
      "grid_gap": null,
      "grid_row": null,
      "grid_template_areas": null,
      "grid_template_columns": null,
      "grid_template_rows": null,
      "height": null,
      "justify_content": null,
      "justify_items": null,
      "left": null,
      "margin": null,
      "max_height": null,
      "max_width": null,
      "min_height": null,
      "min_width": null,
      "object_fit": null,
      "object_position": null,
      "order": null,
      "overflow": null,
      "overflow_x": null,
      "overflow_y": null,
      "padding": null,
      "right": null,
      "top": null,
      "visibility": null,
      "width": null
     }
    },
    "17699d85d5ca412e8692d61d83870f37": {
     "model_module": "@jupyter-widgets/controls",
     "model_module_version": "1.5.0",
     "model_name": "HTMLModel",
     "state": {
      "_dom_classes": [],
      "_model_module": "@jupyter-widgets/controls",
      "_model_module_version": "1.5.0",
      "_model_name": "HTMLModel",
      "_view_count": null,
      "_view_module": "@jupyter-widgets/controls",
      "_view_module_version": "1.5.0",
      "_view_name": "HTMLView",
      "description": "",
      "description_tooltip": null,
      "layout": "IPY_MODEL_d3a27088228a4c0bbe88b1ce380fc33a",
      "placeholder": "​",
      "style": "IPY_MODEL_e38305619c7247bbb19e84eafd370948",
      "value": " 60000/60000 [55:11&lt;00:00, 16.19it/s]"
     }
    },
    "2125e6fd5e2f4bc28b2756349ec27de6": {
     "model_module": "@jupyter-widgets/controls",
     "model_module_version": "1.5.0",
     "model_name": "FloatProgressModel",
     "state": {
      "_dom_classes": [],
      "_model_module": "@jupyter-widgets/controls",
      "_model_module_version": "1.5.0",
      "_model_name": "FloatProgressModel",
      "_view_count": null,
      "_view_module": "@jupyter-widgets/controls",
      "_view_module_version": "1.5.0",
      "_view_name": "ProgressView",
      "bar_style": "success",
      "description": "",
      "description_tooltip": null,
      "layout": "IPY_MODEL_e70ddcbae3ff47d1b95879918b94b887",
      "max": 60000,
      "min": 0,
      "orientation": "horizontal",
      "style": "IPY_MODEL_ccc6567677bb4720923171c67385cb68",
      "value": 60000
     }
    },
    "25da860f228d4cbf8b0ac850c0b557be": {
     "model_module": "@jupyter-widgets/controls",
     "model_module_version": "1.5.0",
     "model_name": "HBoxModel",
     "state": {
      "_dom_classes": [],
      "_model_module": "@jupyter-widgets/controls",
      "_model_module_version": "1.5.0",
      "_model_name": "HBoxModel",
      "_view_count": null,
      "_view_module": "@jupyter-widgets/controls",
      "_view_module_version": "1.5.0",
      "_view_name": "HBoxView",
      "box_style": "",
      "children": [
       "IPY_MODEL_ff733addf453438e948eb9cac4dadb2c",
       "IPY_MODEL_2125e6fd5e2f4bc28b2756349ec27de6",
       "IPY_MODEL_17699d85d5ca412e8692d61d83870f37"
      ],
      "layout": "IPY_MODEL_734af67f45264d308b0fd4ce2db44784"
     }
    },
    "27de3532b23a408985e87e86b67cd677": {
     "model_module": "@jupyter-widgets/controls",
     "model_module_version": "1.5.0",
     "model_name": "FloatProgressModel",
     "state": {
      "_dom_classes": [],
      "_model_module": "@jupyter-widgets/controls",
      "_model_module_version": "1.5.0",
      "_model_name": "FloatProgressModel",
      "_view_count": null,
      "_view_module": "@jupyter-widgets/controls",
      "_view_module_version": "1.5.0",
      "_view_name": "ProgressView",
      "bar_style": "success",
      "description": "",
      "description_tooltip": null,
      "layout": "IPY_MODEL_9270aef45cf141e7a3a49765b28539a4",
      "max": 60000,
      "min": 0,
      "orientation": "horizontal",
      "style": "IPY_MODEL_29e7d5da752841e2bae4b743413d0167",
      "value": 60000
     }
    },
    "28d3aa0fe7c04eaab2d4311b4fd7f23a": {
     "model_module": "@jupyter-widgets/controls",
     "model_module_version": "1.5.0",
     "model_name": "DescriptionStyleModel",
     "state": {
      "_model_module": "@jupyter-widgets/controls",
      "_model_module_version": "1.5.0",
      "_model_name": "DescriptionStyleModel",
      "_view_count": null,
      "_view_module": "@jupyter-widgets/base",
      "_view_module_version": "1.2.0",
      "_view_name": "StyleView",
      "description_width": ""
     }
    },
    "29e7d5da752841e2bae4b743413d0167": {
     "model_module": "@jupyter-widgets/controls",
     "model_module_version": "1.5.0",
     "model_name": "ProgressStyleModel",
     "state": {
      "_model_module": "@jupyter-widgets/controls",
      "_model_module_version": "1.5.0",
      "_model_name": "ProgressStyleModel",
      "_view_count": null,
      "_view_module": "@jupyter-widgets/base",
      "_view_module_version": "1.2.0",
      "_view_name": "StyleView",
      "bar_color": null,
      "description_width": ""
     }
    },
    "32e13252695240f1879f8218bfc75506": {
     "model_module": "@jupyter-widgets/base",
     "model_module_version": "1.2.0",
     "model_name": "LayoutModel",
     "state": {
      "_model_module": "@jupyter-widgets/base",
      "_model_module_version": "1.2.0",
      "_model_name": "LayoutModel",
      "_view_count": null,
      "_view_module": "@jupyter-widgets/base",
      "_view_module_version": "1.2.0",
      "_view_name": "LayoutView",
      "align_content": null,
      "align_items": null,
      "align_self": null,
      "border": null,
      "bottom": null,
      "display": null,
      "flex": null,
      "flex_flow": null,
      "grid_area": null,
      "grid_auto_columns": null,
      "grid_auto_flow": null,
      "grid_auto_rows": null,
      "grid_column": null,
      "grid_gap": null,
      "grid_row": null,
      "grid_template_areas": null,
      "grid_template_columns": null,
      "grid_template_rows": null,
      "height": null,
      "justify_content": null,
      "justify_items": null,
      "left": null,
      "margin": null,
      "max_height": null,
      "max_width": null,
      "min_height": null,
      "min_width": null,
      "object_fit": null,
      "object_position": null,
      "order": null,
      "overflow": null,
      "overflow_x": null,
      "overflow_y": null,
      "padding": null,
      "right": null,
      "top": null,
      "visibility": null,
      "width": null
     }
    },
    "5813d1520fe348d4988bf719c614583d": {
     "model_module": "@jupyter-widgets/controls",
     "model_module_version": "1.5.0",
     "model_name": "HTMLModel",
     "state": {
      "_dom_classes": [],
      "_model_module": "@jupyter-widgets/controls",
      "_model_module_version": "1.5.0",
      "_model_name": "HTMLModel",
      "_view_count": null,
      "_view_module": "@jupyter-widgets/controls",
      "_view_module_version": "1.5.0",
      "_view_name": "HTMLView",
      "description": "",
      "description_tooltip": null,
      "layout": "IPY_MODEL_8fe76c03c71f4955b78ba8fcc0af18ce",
      "placeholder": "​",
      "style": "IPY_MODEL_5adc95d10d2c4801bcdc55fbb393bb67",
      "value": "100%"
     }
    },
    "5adc95d10d2c4801bcdc55fbb393bb67": {
     "model_module": "@jupyter-widgets/controls",
     "model_module_version": "1.5.0",
     "model_name": "DescriptionStyleModel",
     "state": {
      "_model_module": "@jupyter-widgets/controls",
      "_model_module_version": "1.5.0",
      "_model_name": "DescriptionStyleModel",
      "_view_count": null,
      "_view_module": "@jupyter-widgets/base",
      "_view_module_version": "1.2.0",
      "_view_name": "StyleView",
      "description_width": ""
     }
    },
    "734af67f45264d308b0fd4ce2db44784": {
     "model_module": "@jupyter-widgets/base",
     "model_module_version": "1.2.0",
     "model_name": "LayoutModel",
     "state": {
      "_model_module": "@jupyter-widgets/base",
      "_model_module_version": "1.2.0",
      "_model_name": "LayoutModel",
      "_view_count": null,
      "_view_module": "@jupyter-widgets/base",
      "_view_module_version": "1.2.0",
      "_view_name": "LayoutView",
      "align_content": null,
      "align_items": null,
      "align_self": null,
      "border": null,
      "bottom": null,
      "display": null,
      "flex": null,
      "flex_flow": null,
      "grid_area": null,
      "grid_auto_columns": null,
      "grid_auto_flow": null,
      "grid_auto_rows": null,
      "grid_column": null,
      "grid_gap": null,
      "grid_row": null,
      "grid_template_areas": null,
      "grid_template_columns": null,
      "grid_template_rows": null,
      "height": null,
      "justify_content": null,
      "justify_items": null,
      "left": null,
      "margin": null,
      "max_height": null,
      "max_width": null,
      "min_height": null,
      "min_width": null,
      "object_fit": null,
      "object_position": null,
      "order": null,
      "overflow": null,
      "overflow_x": null,
      "overflow_y": null,
      "padding": null,
      "right": null,
      "top": null,
      "visibility": null,
      "width": null
     }
    },
    "7a7707d6babf4114aacf1c53c1808dda": {
     "model_module": "@jupyter-widgets/base",
     "model_module_version": "1.2.0",
     "model_name": "LayoutModel",
     "state": {
      "_model_module": "@jupyter-widgets/base",
      "_model_module_version": "1.2.0",
      "_model_name": "LayoutModel",
      "_view_count": null,
      "_view_module": "@jupyter-widgets/base",
      "_view_module_version": "1.2.0",
      "_view_name": "LayoutView",
      "align_content": null,
      "align_items": null,
      "align_self": null,
      "border": null,
      "bottom": null,
      "display": null,
      "flex": null,
      "flex_flow": null,
      "grid_area": null,
      "grid_auto_columns": null,
      "grid_auto_flow": null,
      "grid_auto_rows": null,
      "grid_column": null,
      "grid_gap": null,
      "grid_row": null,
      "grid_template_areas": null,
      "grid_template_columns": null,
      "grid_template_rows": null,
      "height": null,
      "justify_content": null,
      "justify_items": null,
      "left": null,
      "margin": null,
      "max_height": null,
      "max_width": null,
      "min_height": null,
      "min_width": null,
      "object_fit": null,
      "object_position": null,
      "order": null,
      "overflow": null,
      "overflow_x": null,
      "overflow_y": null,
      "padding": null,
      "right": null,
      "top": null,
      "visibility": null,
      "width": null
     }
    },
    "8f2536c1c1754e08aae40733df109a32": {
     "model_module": "@jupyter-widgets/controls",
     "model_module_version": "1.5.0",
     "model_name": "HTMLModel",
     "state": {
      "_dom_classes": [],
      "_model_module": "@jupyter-widgets/controls",
      "_model_module_version": "1.5.0",
      "_model_name": "HTMLModel",
      "_view_count": null,
      "_view_module": "@jupyter-widgets/controls",
      "_view_module_version": "1.5.0",
      "_view_name": "HTMLView",
      "description": "",
      "description_tooltip": null,
      "layout": "IPY_MODEL_7a7707d6babf4114aacf1c53c1808dda",
      "placeholder": "​",
      "style": "IPY_MODEL_e3322688528746c08b5e63e4e6dfc1d2",
      "value": " 60000/60000 [55:00&lt;00:00, 17.07it/s]"
     }
    },
    "8fe76c03c71f4955b78ba8fcc0af18ce": {
     "model_module": "@jupyter-widgets/base",
     "model_module_version": "1.2.0",
     "model_name": "LayoutModel",
     "state": {
      "_model_module": "@jupyter-widgets/base",
      "_model_module_version": "1.2.0",
      "_model_name": "LayoutModel",
      "_view_count": null,
      "_view_module": "@jupyter-widgets/base",
      "_view_module_version": "1.2.0",
      "_view_name": "LayoutView",
      "align_content": null,
      "align_items": null,
      "align_self": null,
      "border": null,
      "bottom": null,
      "display": null,
      "flex": null,
      "flex_flow": null,
      "grid_area": null,
      "grid_auto_columns": null,
      "grid_auto_flow": null,
      "grid_auto_rows": null,
      "grid_column": null,
      "grid_gap": null,
      "grid_row": null,
      "grid_template_areas": null,
      "grid_template_columns": null,
      "grid_template_rows": null,
      "height": null,
      "justify_content": null,
      "justify_items": null,
      "left": null,
      "margin": null,
      "max_height": null,
      "max_width": null,
      "min_height": null,
      "min_width": null,
      "object_fit": null,
      "object_position": null,
      "order": null,
      "overflow": null,
      "overflow_x": null,
      "overflow_y": null,
      "padding": null,
      "right": null,
      "top": null,
      "visibility": null,
      "width": null
     }
    },
    "9270aef45cf141e7a3a49765b28539a4": {
     "model_module": "@jupyter-widgets/base",
     "model_module_version": "1.2.0",
     "model_name": "LayoutModel",
     "state": {
      "_model_module": "@jupyter-widgets/base",
      "_model_module_version": "1.2.0",
      "_model_name": "LayoutModel",
      "_view_count": null,
      "_view_module": "@jupyter-widgets/base",
      "_view_module_version": "1.2.0",
      "_view_name": "LayoutView",
      "align_content": null,
      "align_items": null,
      "align_self": null,
      "border": null,
      "bottom": null,
      "display": null,
      "flex": null,
      "flex_flow": null,
      "grid_area": null,
      "grid_auto_columns": null,
      "grid_auto_flow": null,
      "grid_auto_rows": null,
      "grid_column": null,
      "grid_gap": null,
      "grid_row": null,
      "grid_template_areas": null,
      "grid_template_columns": null,
      "grid_template_rows": null,
      "height": null,
      "justify_content": null,
      "justify_items": null,
      "left": null,
      "margin": null,
      "max_height": null,
      "max_width": null,
      "min_height": null,
      "min_width": null,
      "object_fit": null,
      "object_position": null,
      "order": null,
      "overflow": null,
      "overflow_x": null,
      "overflow_y": null,
      "padding": null,
      "right": null,
      "top": null,
      "visibility": null,
      "width": null
     }
    },
    "ccc6567677bb4720923171c67385cb68": {
     "model_module": "@jupyter-widgets/controls",
     "model_module_version": "1.5.0",
     "model_name": "ProgressStyleModel",
     "state": {
      "_model_module": "@jupyter-widgets/controls",
      "_model_module_version": "1.5.0",
      "_model_name": "ProgressStyleModel",
      "_view_count": null,
      "_view_module": "@jupyter-widgets/base",
      "_view_module_version": "1.2.0",
      "_view_name": "StyleView",
      "bar_color": null,
      "description_width": ""
     }
    },
    "d3a27088228a4c0bbe88b1ce380fc33a": {
     "model_module": "@jupyter-widgets/base",
     "model_module_version": "1.2.0",
     "model_name": "LayoutModel",
     "state": {
      "_model_module": "@jupyter-widgets/base",
      "_model_module_version": "1.2.0",
      "_model_name": "LayoutModel",
      "_view_count": null,
      "_view_module": "@jupyter-widgets/base",
      "_view_module_version": "1.2.0",
      "_view_name": "LayoutView",
      "align_content": null,
      "align_items": null,
      "align_self": null,
      "border": null,
      "bottom": null,
      "display": null,
      "flex": null,
      "flex_flow": null,
      "grid_area": null,
      "grid_auto_columns": null,
      "grid_auto_flow": null,
      "grid_auto_rows": null,
      "grid_column": null,
      "grid_gap": null,
      "grid_row": null,
      "grid_template_areas": null,
      "grid_template_columns": null,
      "grid_template_rows": null,
      "height": null,
      "justify_content": null,
      "justify_items": null,
      "left": null,
      "margin": null,
      "max_height": null,
      "max_width": null,
      "min_height": null,
      "min_width": null,
      "object_fit": null,
      "object_position": null,
      "order": null,
      "overflow": null,
      "overflow_x": null,
      "overflow_y": null,
      "padding": null,
      "right": null,
      "top": null,
      "visibility": null,
      "width": null
     }
    },
    "e3322688528746c08b5e63e4e6dfc1d2": {
     "model_module": "@jupyter-widgets/controls",
     "model_module_version": "1.5.0",
     "model_name": "DescriptionStyleModel",
     "state": {
      "_model_module": "@jupyter-widgets/controls",
      "_model_module_version": "1.5.0",
      "_model_name": "DescriptionStyleModel",
      "_view_count": null,
      "_view_module": "@jupyter-widgets/base",
      "_view_module_version": "1.2.0",
      "_view_name": "StyleView",
      "description_width": ""
     }
    },
    "e38305619c7247bbb19e84eafd370948": {
     "model_module": "@jupyter-widgets/controls",
     "model_module_version": "1.5.0",
     "model_name": "DescriptionStyleModel",
     "state": {
      "_model_module": "@jupyter-widgets/controls",
      "_model_module_version": "1.5.0",
      "_model_name": "DescriptionStyleModel",
      "_view_count": null,
      "_view_module": "@jupyter-widgets/base",
      "_view_module_version": "1.2.0",
      "_view_name": "StyleView",
      "description_width": ""
     }
    },
    "e70ddcbae3ff47d1b95879918b94b887": {
     "model_module": "@jupyter-widgets/base",
     "model_module_version": "1.2.0",
     "model_name": "LayoutModel",
     "state": {
      "_model_module": "@jupyter-widgets/base",
      "_model_module_version": "1.2.0",
      "_model_name": "LayoutModel",
      "_view_count": null,
      "_view_module": "@jupyter-widgets/base",
      "_view_module_version": "1.2.0",
      "_view_name": "LayoutView",
      "align_content": null,
      "align_items": null,
      "align_self": null,
      "border": null,
      "bottom": null,
      "display": null,
      "flex": null,
      "flex_flow": null,
      "grid_area": null,
      "grid_auto_columns": null,
      "grid_auto_flow": null,
      "grid_auto_rows": null,
      "grid_column": null,
      "grid_gap": null,
      "grid_row": null,
      "grid_template_areas": null,
      "grid_template_columns": null,
      "grid_template_rows": null,
      "height": null,
      "justify_content": null,
      "justify_items": null,
      "left": null,
      "margin": null,
      "max_height": null,
      "max_width": null,
      "min_height": null,
      "min_width": null,
      "object_fit": null,
      "object_position": null,
      "order": null,
      "overflow": null,
      "overflow_x": null,
      "overflow_y": null,
      "padding": null,
      "right": null,
      "top": null,
      "visibility": null,
      "width": null
     }
    },
    "f3876b97e2eb440482f89aa6048fc1db": {
     "model_module": "@jupyter-widgets/controls",
     "model_module_version": "1.5.0",
     "model_name": "HBoxModel",
     "state": {
      "_dom_classes": [],
      "_model_module": "@jupyter-widgets/controls",
      "_model_module_version": "1.5.0",
      "_model_name": "HBoxModel",
      "_view_count": null,
      "_view_module": "@jupyter-widgets/controls",
      "_view_module_version": "1.5.0",
      "_view_name": "HBoxView",
      "box_style": "",
      "children": [
       "IPY_MODEL_5813d1520fe348d4988bf719c614583d",
       "IPY_MODEL_27de3532b23a408985e87e86b67cd677",
       "IPY_MODEL_8f2536c1c1754e08aae40733df109a32"
      ],
      "layout": "IPY_MODEL_32e13252695240f1879f8218bfc75506"
     }
    },
    "ff733addf453438e948eb9cac4dadb2c": {
     "model_module": "@jupyter-widgets/controls",
     "model_module_version": "1.5.0",
     "model_name": "HTMLModel",
     "state": {
      "_dom_classes": [],
      "_model_module": "@jupyter-widgets/controls",
      "_model_module_version": "1.5.0",
      "_model_name": "HTMLModel",
      "_view_count": null,
      "_view_module": "@jupyter-widgets/controls",
      "_view_module_version": "1.5.0",
      "_view_name": "HTMLView",
      "description": "",
      "description_tooltip": null,
      "layout": "IPY_MODEL_030a079ef82c4ef3b3ce1f7634e5279e",
      "placeholder": "​",
      "style": "IPY_MODEL_28d3aa0fe7c04eaab2d4311b4fd7f23a",
      "value": "100%"
     }
    }
   }
  }
 },
 "nbformat": 4,
 "nbformat_minor": 4
}
